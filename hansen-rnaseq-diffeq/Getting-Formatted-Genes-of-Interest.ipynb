{
 "cells": [
  {
   "cell_type": "code",
   "execution_count": 19,
   "id": "01efb5b9",
   "metadata": {},
   "outputs": [],
   "source": [
    "from collections import defaultdict\n",
    "from pathlib import Path"
   ]
  },
  {
   "cell_type": "code",
   "execution_count": 20,
   "id": "23ed3fd5",
   "metadata": {},
   "outputs": [],
   "source": [
    "# define file inputs\n",
    "snpbed_path = Path(\"snpinfo.bed\")\n",
    "transcript_gtf_path = Path(\"hg38.p13.NCBI_RefSeq.gtf\")\n",
    "sg_intersects_path = Path(\"sg-intersects.txt\")\n",
    "\n",
    "# define file outputs\n",
    "cisreg_genesets_out_path = Path(\"cisregulatory-genesets.txt\")\n",
    "chrom_genesets_out_path = Path(\"chrom-genesets.txt\")"
   ]
  },
  {
   "cell_type": "code",
   "execution_count": 21,
   "id": "2ee767ee",
   "metadata": {},
   "outputs": [],
   "source": [
    "# run bedtools window to get genes within 1MB of each SNP\n",
    "!bedtools window -w 1000000 -a {snpbed_path} -b {transcript_gtf_path} > {sg_intersects_path}"
   ]
  },
  {
   "cell_type": "code",
   "execution_count": 25,
   "id": "d751d77f",
   "metadata": {},
   "outputs": [],
   "source": [
    "# get genes of interest in cis-regulatory regions\n",
    "genes_cisreg = defaultdict(list)\n",
    "with open(sg_intersects_path, 'r') as fobj:\n",
    "    for line in fobj:\n",
    "        # extract the relation between SNP and gene\n",
    "        fields = line.strip().split('\\t')\n",
    "        rsid = fields[3]\n",
    "        gene_id = fields[-1].split(';')[0].split(' ')[1]\n",
    "        \n",
    "        # place genes in the cis-regulatory vacinity into a dictionary for output\n",
    "        genes_cisreg[rsid].append(gene_id)\n",
    "\n",
    "# remove duplicates in each SNP gene set\n",
    "cisreg_genesets_out = {}\n",
    "for snp, genes in genes_cisreg.items():\n",
    "    nonredundant = sorted(list(set(genes)))\n",
    "    cisreg_genesets_out[snp] = nonredundant\n",
    "\n",
    "# write the file out containing the cisregulatory gene sets\n",
    "with open(cisreg_genesets_out_path,'w') as outobj:\n",
    "    for snp, geneset in cisreg_genesets_out.items():\n",
    "        genelist = \",\".join(geneset)\n",
    "        outobj.write(f\"{snp}\\t{genelist}\\n\")\n"
   ]
  },
  {
   "cell_type": "code",
   "execution_count": 26,
   "id": "ca57d42c",
   "metadata": {},
   "outputs": [
    {
     "name": "stdout",
     "output_type": "stream",
     "text": [
      "rm: sg-intersects.txt: No such file or directory\r\n"
     ]
    }
   ],
   "source": [
    "# remove the temporary bedtools file\n",
    "!rm {sg_intersects_path}"
   ]
  },
  {
   "cell_type": "code",
   "execution_count": 27,
   "id": "7e0c03d9",
   "metadata": {},
   "outputs": [],
   "source": [
    "# get the chromosomes of our SNPs from the bed file\n",
    "snp_chroms = {}\n",
    "with open(snpbed_path, 'r') as fobj:\n",
    "    for line in fobj:\n",
    "        fields = line.strip().split('\\t')\n",
    "        chrom = fields[0]\n",
    "        rsid = fields[3]\n",
    "        snp_chroms[rsid] = chrom\n"
   ]
  },
  {
   "cell_type": "code",
   "execution_count": 44,
   "id": "cce900e4",
   "metadata": {},
   "outputs": [],
   "source": [
    "# get gene_ids from the NCBI gtf corresponding to our SNP chroms\n",
    "chrom_genes = defaultdict(list)\n",
    "chroms_to_check = list(set([chrom for rsid, chrom in snp_chroms.items()]))\n",
    "with open(transcript_gtf_path, 'r') as fobj:\n",
    "    for line in fobj:\n",
    "        fields = line.strip().split('\\t')\n",
    "        chrom = fields[0]\n",
    "        if chrom in chroms_to_check:\n",
    "            gene_id = fields[-1].split(';')[0].split(' ')[1]\n",
    "            chrom_genes[chrom].append(gene_id)\n",
    "        else:\n",
    "            continue\n",
    "\n",
    "# replace chroms with SNPs in final dict\n",
    "chrom_genesets_out = {}\n",
    "for rsid, chrom in snp_chroms.items():\n",
    "    chrom_genesets_out[rsid] = list(set(chrom_genes[chrom]))\n",
    "\n",
    "# write the file out\n",
    "with open(chrom_genesets_out_path, 'w') as outobj:\n",
    "    for snp, geneset in chrom_genesets_out.items():\n",
    "        genelist = \",\".join(geneset)\n",
    "        outobj.write(f\"{snp}\\t{genelist}\\n\")"
   ]
  }
 ],
 "metadata": {
  "kernelspec": {
   "display_name": "Python 3 (ipykernel)",
   "language": "python",
   "name": "python3"
  },
  "language_info": {
   "codemirror_mode": {
    "name": "ipython",
    "version": 3
   },
   "file_extension": ".py",
   "mimetype": "text/x-python",
   "name": "python",
   "nbconvert_exporter": "python",
   "pygments_lexer": "ipython3",
   "version": "3.9.7"
  }
 },
 "nbformat": 4,
 "nbformat_minor": 5
}
